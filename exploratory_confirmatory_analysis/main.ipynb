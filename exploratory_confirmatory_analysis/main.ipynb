{
 "cells": [
  {
   "cell_type": "code",
   "execution_count": 1,
   "metadata": {
    "collapsed": true
   },
   "outputs": [],
   "source": [
    "import pandas as pd\n",
    "import matplotlib.pyplot as plt\n",
    "from scipy.stats import mannwhitneyu"
   ]
  },
  {
   "cell_type": "code",
   "execution_count": 2,
   "outputs": [],
   "source": [
    "df = pd.read_csv('task2_data.csv')"
   ],
   "metadata": {
    "collapsed": false,
    "pycharm": {
     "name": "#%%\n"
    }
   }
  },
  {
   "cell_type": "code",
   "execution_count": 3,
   "outputs": [
    {
     "data": {
      "text/plain": "<Figure size 432x288 with 1 Axes>",
      "image/png": "[encoded data removed]"
     },
     "metadata": {
      "needs_background": "light"
     },
     "output_type": "display_data"
    }
   ],
   "source": [
    "nr_tweets_posted = df['#entities']\n",
    "plt.figure()\n",
    "nr_tweets_posted.plot(kind='hist')\n",
    "plt.show()"
   ],
   "metadata": {
    "collapsed": false,
    "pycharm": {
     "name": "#%%\n"
    }
   }
  },
  {
   "cell_type": "code",
   "execution_count": 4,
   "outputs": [],
   "source": [
    "nr_entities_relevant = df[df['relevanceJudge']==1]['#entities']\n",
    "nr_entities_non_relevant = df[df['relevanceJudge']==0]['#entities']"
   ],
   "metadata": {
    "collapsed": false,
    "pycharm": {
     "name": "#%%\n"
    }
   }
  },
  {
   "cell_type": "code",
   "execution_count": 5,
   "outputs": [
    {
     "data": {
      "text/plain": "count    2817.000000\nmean        2.367057\nstd         1.606369\nmin         0.000000\n25%         1.000000\n50%         2.000000\n75%         3.000000\nmax        10.000000\nName: #entities, dtype: float64"
     },
     "execution_count": 5,
     "metadata": {},
     "output_type": "execute_result"
    }
   ],
   "source": [
    "nr_entities_relevant.describe()"
   ],
   "metadata": {
    "collapsed": false,
    "pycharm": {
     "name": "#%%\n"
    }
   }
  },
  {
   "cell_type": "code",
   "execution_count": 6,
   "outputs": [
    {
     "data": {
      "text/plain": "count    37138.000000\nmean         1.882304\nstd          1.706187\nmin          0.000000\n25%          0.000000\n50%          2.000000\n75%          3.000000\nmax         11.000000\nName: #entities, dtype: float64"
     },
     "execution_count": 6,
     "metadata": {},
     "output_type": "execute_result"
    }
   ],
   "source": [
    "nr_entities_non_relevant.describe()"
   ],
   "metadata": {
    "collapsed": false,
    "pycharm": {
     "name": "#%%\n"
    }
   }
  },
  {
   "cell_type": "code",
   "execution_count": 7,
   "outputs": [],
   "source": [
    "res = mannwhitneyu(nr_entities_non_relevant, nr_entities_relevant)"
   ],
   "metadata": {
    "collapsed": false,
    "pycharm": {
     "name": "#%%\n"
    }
   }
  },
  {
   "cell_type": "code",
   "execution_count": 8,
   "outputs": [
    {
     "name": "stdout",
     "output_type": "stream",
     "text": [
      "The U statistic for #entities is equal to 42581699.5 and the p-value for the alternative is equal to 1.927745275394178e-63\n"
     ]
    }
   ],
   "source": [
    "print('The U statistic for #entities is equal to ' + str(res.statistic) + ' and the p-value for the alternative is equal to ' + str(res.pvalue))"
   ],
   "metadata": {
    "collapsed": false,
    "pycharm": {
     "name": "#%%\n"
    }
   }
  },
  {
   "cell_type": "code",
   "execution_count": 9,
   "outputs": [
    {
     "data": {
      "text/plain": "<Figure size 432x288 with 1 Axes>",
      "image/png": "[encoded data removed]"
     },
     "metadata": {
      "needs_background": "light"
     },
     "output_type": "display_data"
    }
   ],
   "source": [
    "nr_entity_types = df['#entityTypes']\n",
    "plt.figure()\n",
    "nr_entity_types.plot(kind='hist')\n",
    "plt.show()"
   ],
   "metadata": {
    "collapsed": false,
    "pycharm": {
     "name": "#%%\n"
    }
   }
  },
  {
   "cell_type": "code",
   "execution_count": 10,
   "outputs": [],
   "source": [
    "nr_entity_types_relevant = df[df['relevanceJudge']==1]['#entityTypes']\n",
    "nr_entity_types_non_relevant = df[df['relevanceJudge']==0]['#entityTypes']"
   ],
   "metadata": {
    "collapsed": false,
    "pycharm": {
     "name": "#%%\n"
    }
   }
  },
  {
   "cell_type": "code",
   "execution_count": 11,
   "outputs": [
    {
     "data": {
      "text/plain": "count    2817.000000\nmean        0.795527\nstd         0.787920\nmin         0.000000\n25%         0.000000\n50%         1.000000\n75%         1.000000\nmax         3.000000\nName: #entityTypes, dtype: float64"
     },
     "execution_count": 11,
     "metadata": {},
     "output_type": "execute_result"
    }
   ],
   "source": [
    "nr_entity_types_relevant.describe()"
   ],
   "metadata": {
    "collapsed": false,
    "pycharm": {
     "name": "#%%\n"
    }
   }
  },
  {
   "cell_type": "code",
   "execution_count": 12,
   "outputs": [
    {
     "data": {
      "text/plain": "count    37138.000000\nmean         0.597340\nstd          0.754422\nmin          0.000000\n25%          0.000000\n50%          0.000000\n75%          1.000000\nmax          4.000000\nName: #entityTypes, dtype: float64"
     },
     "execution_count": 12,
     "metadata": {},
     "output_type": "execute_result"
    }
   ],
   "source": [
    "nr_entity_types_non_relevant.describe()"
   ],
   "metadata": {
    "collapsed": false,
    "pycharm": {
     "name": "#%%\n"
    }
   }
  },
  {
   "cell_type": "code",
   "execution_count": 13,
   "outputs": [],
   "source": [
    "res = mannwhitneyu(nr_entity_types_non_relevant, nr_entity_types_relevant)"
   ],
   "metadata": {
    "collapsed": false,
    "pycharm": {
     "name": "#%%\n"
    }
   }
  },
  {
   "cell_type": "code",
   "execution_count": 14,
   "outputs": [
    {
     "name": "stdout",
     "output_type": "stream",
     "text": [
      "The U statistic for #entityTypes is equal to 44719177.5 and the p-value for the alternative is equal to 1.6603458547298032e-46\n"
     ]
    }
   ],
   "source": [
    "print('The U statistic for #entityTypes is equal to ' + str(res.statistic) + ' and the p-value for the alternative is equal to ' + str(res.pvalue))"
   ],
   "metadata": {
    "collapsed": false,
    "pycharm": {
     "name": "#%%\n"
    }
   }
  },
  {
   "cell_type": "code",
   "execution_count": 15,
   "outputs": [
    {
     "data": {
      "text/plain": "<Figure size 432x288 with 1 Axes>",
      "image/png": "[encoded data removed]"
     },
     "metadata": {
      "needs_background": "light"
     },
     "output_type": "display_data"
    }
   ],
   "source": [
    "nr_tweets_posted = df['#tweetsPosted']\n",
    "plt.figure()\n",
    "nr_tweets_posted.plot(kind='hist', logy=True)\n",
    "plt.show()"
   ],
   "metadata": {
    "collapsed": false,
    "pycharm": {
     "name": "#%%\n"
    }
   }
  },
  {
   "cell_type": "code",
   "execution_count": 16,
   "outputs": [],
   "source": [
    "nr_tweets_posted_relevant = df[df['relevanceJudge']==1]['#tweetsPosted']\n",
    "nr_tweets_posted_non_relevant = df[df['relevanceJudge']==0]['#tweetsPosted']"
   ],
   "metadata": {
    "collapsed": false,
    "pycharm": {
     "name": "#%%\n"
    }
   }
  },
  {
   "cell_type": "code",
   "execution_count": 17,
   "outputs": [
    {
     "data": {
      "text/plain": "count      2817.000000\nmean      29862.847710\nstd       48384.225953\nmin           0.000000\n25%        2988.000000\n50%       12094.000000\n75%       34790.000000\nmax      545006.000000\nName: #tweetsPosted, dtype: float64"
     },
     "execution_count": 17,
     "metadata": {},
     "output_type": "execute_result"
    }
   ],
   "source": [
    "nr_tweets_posted_relevant.describe()"
   ],
   "metadata": {
    "collapsed": false,
    "pycharm": {
     "name": "#%%\n"
    }
   }
  },
  {
   "cell_type": "code",
   "execution_count": 18,
   "outputs": [
    {
     "data": {
      "text/plain": "count    3.713800e+04\nmean     2.888887e+04\nstd      5.728857e+04\nmin      0.000000e+00\n25%      2.481000e+03\n50%      1.018400e+04\n75%      2.996175e+04\nmax      1.399152e+06\nName: #tweetsPosted, dtype: float64"
     },
     "execution_count": 18,
     "metadata": {},
     "output_type": "execute_result"
    }
   ],
   "source": [
    "nr_tweets_posted_non_relevant.describe()"
   ],
   "metadata": {
    "collapsed": false,
    "pycharm": {
     "name": "#%%\n"
    }
   }
  },
  {
   "cell_type": "code",
   "execution_count": 19,
   "outputs": [],
   "source": [
    "res = mannwhitneyu(nr_tweets_posted_non_relevant, nr_tweets_posted_relevant)"
   ],
   "metadata": {
    "collapsed": false,
    "pycharm": {
     "name": "#%%\n"
    }
   }
  },
  {
   "cell_type": "code",
   "execution_count": 20,
   "outputs": [
    {
     "name": "stdout",
     "output_type": "stream",
     "text": [
      "The U statistic for #tweetsPosted is equal to 49433364.0 and the p-value for the alternative is equal to 1.1039335884346774e-06\n"
     ]
    }
   ],
   "source": [
    "print('The U statistic for #tweetsPosted is equal to ' + str(res.statistic) + ' and the p-value for the alternative is equal to ' + str(res.pvalue))"
   ],
   "metadata": {
    "collapsed": false,
    "pycharm": {
     "name": "#%%\n"
    }
   }
  },
  {
   "cell_type": "code",
   "execution_count": 21,
   "outputs": [
    {
     "data": {
      "text/plain": "<Figure size 432x288 with 1 Axes>",
      "image/png": "[encoded data removed]"
     },
     "metadata": {},
     "output_type": "display_data"
    }
   ],
   "source": [
    "sentiment = df['sentiment']\n",
    "plt.figure()\n",
    "sentiment.value_counts().plot(kind='pie')\n",
    "plt.show()"
   ],
   "metadata": {
    "collapsed": false,
    "pycharm": {
     "name": "#%%\n"
    }
   }
  },
  {
   "cell_type": "code",
   "execution_count": 22,
   "outputs": [],
   "source": [
    "sentiment_relevant = df[df['relevanceJudge']==1]['sentiment']\n",
    "sentiment_non_relevant = df[df['relevanceJudge']==0]['sentiment']"
   ],
   "metadata": {
    "collapsed": false,
    "pycharm": {
     "name": "#%%\n"
    }
   }
  },
  {
   "cell_type": "code",
   "execution_count": 23,
   "outputs": [
    {
     "data": {
      "text/plain": "count    2817.000000\nmean       -0.024494\nstd         0.268697\nmin        -1.000000\n25%         0.000000\n50%         0.000000\n75%         0.000000\nmax         1.000000\nName: sentiment, dtype: float64"
     },
     "execution_count": 23,
     "metadata": {},
     "output_type": "execute_result"
    }
   ],
   "source": [
    "sentiment_relevant.describe()"
   ],
   "metadata": {
    "collapsed": false,
    "pycharm": {
     "name": "#%%\n"
    }
   }
  },
  {
   "cell_type": "code",
   "execution_count": 24,
   "outputs": [
    {
     "data": {
      "text/plain": "count    37138.000000\nmean         0.041925\nstd          0.412782\nmin         -1.000000\n25%          0.000000\n50%          0.000000\n75%          0.000000\nmax          1.000000\nName: sentiment, dtype: float64"
     },
     "execution_count": 24,
     "metadata": {},
     "output_type": "execute_result"
    }
   ],
   "source": [
    "sentiment_non_relevant.describe()"
   ],
   "metadata": {
    "collapsed": false,
    "pycharm": {
     "name": "#%%\n"
    }
   }
  },
  {
   "cell_type": "code",
   "execution_count": 25,
   "outputs": [],
   "source": [
    "res = mannwhitneyu(sentiment_non_relevant, sentiment_relevant)"
   ],
   "metadata": {
    "collapsed": false,
    "pycharm": {
     "name": "#%%\n"
    }
   }
  },
  {
   "cell_type": "code",
   "execution_count": 26,
   "outputs": [
    {
     "name": "stdout",
     "output_type": "stream",
     "text": [
      "The U statistic for #tweetsPosted is equal to 55593093.0 and the p-value for the alternative is equal to 6.746463684428113e-18\n"
     ]
    }
   ],
   "source": [
    "print('The U statistic for #tweetsPosted is equal to ' + str(res.statistic) + ' and the p-value for the alternative is equal to ' + str(res.pvalue))"
   ],
   "metadata": {
    "collapsed": false,
    "pycharm": {
     "name": "#%%\n"
    }
   }
  },
  {
   "cell_type": "code",
   "execution_count": 27,
   "outputs": [
    {
     "data": {
      "text/plain": "<Figure size 432x288 with 1 Axes>",
      "image/png": "[encoded data removed]"
     },
     "metadata": {
      "needs_background": "light"
     },
     "output_type": "display_data"
    }
   ],
   "source": [
    "text_score = df['text_score']\n",
    "plt.figure()\n",
    "text_score.plot(kind='hist', logy=True)\n",
    "plt.show()"
   ],
   "metadata": {
    "collapsed": false,
    "pycharm": {
     "name": "#%%\n"
    }
   }
  },
  {
   "cell_type": "code",
   "execution_count": 28,
   "outputs": [],
   "source": [
    "text_score_relevant = df[df['relevanceJudge']==1]['text_score']\n",
    "text_score_non_relevant = df[df['relevanceJudge']==0]['text_score']"
   ],
   "metadata": {
    "collapsed": false,
    "pycharm": {
     "name": "#%%\n"
    }
   }
  },
  {
   "cell_type": "code",
   "execution_count": 29,
   "outputs": [
    {
     "data": {
      "text/plain": "count    2817.000000\nmean      -10.699349\nstd         3.581914\nmin       -16.000000\n25%       -16.000000\n50%        -9.160130\n75%        -7.982420\nmax        -5.716800\nName: text_score, dtype: float64"
     },
     "execution_count": 29,
     "metadata": {},
     "output_type": "execute_result"
    }
   ],
   "source": [
    "text_score_relevant.describe()"
   ],
   "metadata": {
    "collapsed": false,
    "pycharm": {
     "name": "#%%\n"
    }
   }
  },
  {
   "cell_type": "code",
   "execution_count": 30,
   "outputs": [
    {
     "data": {
      "text/plain": "count    37138.000000\nmean       -14.406488\nstd          2.933782\nmin        -16.000000\n25%        -16.000000\n50%        -16.000000\n75%        -16.000000\nmax         -5.588040\nName: text_score, dtype: float64"
     },
     "execution_count": 30,
     "metadata": {},
     "output_type": "execute_result"
    }
   ],
   "source": [
    "text_score_non_relevant.describe()"
   ],
   "metadata": {
    "collapsed": false,
    "pycharm": {
     "name": "#%%\n"
    }
   }
  },
  {
   "cell_type": "code",
   "execution_count": 31,
   "outputs": [],
   "source": [
    "res = mannwhitneyu(text_score_non_relevant, text_score_relevant)"
   ],
   "metadata": {
    "collapsed": false,
    "pycharm": {
     "name": "#%%\n"
    }
   }
  },
  {
   "cell_type": "code",
   "execution_count": 32,
   "outputs": [
    {
     "name": "stdout",
     "output_type": "stream",
     "text": [
      "The U statistic for #tweetsPosted is equal to 24588400.5 and the p-value for the alternative is equal to 0.0\n"
     ]
    }
   ],
   "source": [
    "print('The U statistic for #tweetsPosted is equal to ' + str(res.statistic) + ' and the p-value for the alternative is equal to ' + str(res.pvalue))"
   ],
   "metadata": {
    "collapsed": false,
    "pycharm": {
     "name": "#%%\n"
    }
   }
  }
 ],
 "metadata": {
  "kernelspec": {
   "display_name": "Python 3",
   "language": "python",
   "name": "python3"
  },
  "language_info": {
   "codemirror_mode": {
    "name": "ipython",
    "version": 2
   },
   "file_extension": ".py",
   "mimetype": "text/x-python",
   "name": "python",
   "nbconvert_exporter": "python",
   "pygments_lexer": "ipython2",
   "version": "2.7.6"
  }
 },
 "nbformat": 4,
 "nbformat_minor": 0
}